{
 "cells": [
  {
   "cell_type": "markdown",
   "metadata": {},
   "source": [
    "# CS 178 Project"
   ]
  },
  {
   "cell_type": "markdown",
   "metadata": {},
   "source": [
    "Bisher Kudaimi 76592646\n",
    "\n",
    "Nabhan Khan 10986609\n",
    "\n",
    "Mustafa Yesilyurt 64496863"
   ]
  },
  {
   "cell_type": "code",
   "execution_count": 1,
   "metadata": {},
   "outputs": [],
   "source": [
    "import numpy as np\n",
    "import matplotlib.pyplot as plt\n",
    "import mltools as ml\n",
    "\n",
    "np.random.seed(0)\n",
    "\n",
    "X = np.genfromtxt('X_train.txt', delimiter = ',')\n",
    "Y = np.genfromtxt('Y_train.txt', delimiter = ',')\n",
    "X,Y = ml.shuffleData(X,Y)"
   ]
  },
  {
   "cell_type": "code",
   "execution_count": 2,
   "metadata": {},
   "outputs": [
    {
     "name": "stdout",
     "output_type": "stream",
     "text": [
      "(7423, 107) (7423,)\n"
     ]
    }
   ],
   "source": [
    "print(X.shape, Y.shape)"
   ]
  },
  {
   "cell_type": "code",
   "execution_count": 10,
   "metadata": {},
   "outputs": [],
   "source": [
    "Xtr,Xva,Ytr,Yva=ml.splitData(X,Y,0.8)"
   ]
  },
  {
   "cell_type": "code",
   "execution_count": 3,
   "metadata": {},
   "outputs": [],
   "source": [
    "def toKaggle(filename,YeHat):\n",
    "    fh = open(filename,'w') # open file for upload\n",
    "    fh.write('ID,Predicted\\n') # output header line\n",
    "    for i,yi in enumerate(YeHat.ravel()):\n",
    "        fh.write('{},{}\\n'.format(i,yi)) # output each prediction\n",
    "    fh.close()\n",
    "\n",
    "class dummy(ml.classifier):\n",
    "    def __init__(self,X,Y,P): self.P=P; self.classes=np.unique(Y);\n",
    "    def predictSoft(self,X): return self.P"
   ]
  },
  {
   "cell_type": "code",
   "execution_count": 12,
   "metadata": {},
   "outputs": [
    {
     "name": "stdout",
     "output_type": "stream",
     "text": [
      "Train 0; est AUC 0.6917786926304814\n",
      "Valid 0; est AUC 0.6995142073489291\n",
      "Train 1; est AUC 0.6917786926304814\n",
      "Valid 1; est AUC 0.6995142073489291\n",
      "Train 2; est AUC 0.6925452741466369\n",
      "Valid 2; est AUC 0.6988112773553142\n",
      "Train 4; est AUC 0.6988981489833279\n",
      "Valid 4; est AUC 0.7019495196493876\n",
      "Train 8; est AUC 0.6990035518144547\n",
      "Valid 8; est AUC 0.7024247910257154\n",
      "Train 16; est AUC 0.6999923982888208\n",
      "Valid 16; est AUC 0.7060600728507576\n",
      "Train 32; est AUC 0.7167196233635756\n",
      "Valid 32; est AUC 0.7246917992105416\n",
      "Train 64; est AUC 0.7363391293544616\n",
      "Valid 64; est AUC 0.74297251407674\n",
      "Train 128; est AUC 0.7477803854294485\n",
      "Valid 128; est AUC 0.7452654263655889\n",
      "Train 256; est AUC 0.767444707478779\n",
      "Valid 256; est AUC 0.7471737679224473\n",
      "1: GradBoost, 274 trees: AUC ~ 0.768700748428176\n",
      "2: GradBoost, 274 trees: AUC ~ 0.7464454417484182\n"
     ]
    }
   ],
   "source": [
    "# the one to use!!!!!!!!!!!\n",
    "\n",
    "\n",
    "\n",
    "nUse= 274\n",
    "mu = Ytr.mean()\n",
    "step = 0.05\n",
    "Ft = np.zeros((Xtr.shape[0],)) + np.log(mu/(1-mu))\n",
    "Fv = np.zeros((Xva.shape[0],)) + np.log(mu/(1-mu))\n",
    "#Fe = np.zeros((Xe.shape[0],)) + np.log(mu/(1-mu))\n",
    "def sigma(z): return 1./(1.+np.exp(-z))\n",
    "Pv1 = np.zeros((Xtr.shape[0],2)); Pv1[:,0]=1-mu; Pv1[:,1]=mu;\n",
    "Pv2 = np.zeros((Xva.shape[0],2)); Pv2[:,0]=1-mu; Pv2[:,1]=mu;\n",
    "#Pe2 = np.zeros((Xe.shape[0],2)); Pe2[:,0]=1-mu; Pe2[:,1]=mu;\n",
    "np.random.seed(0)\n",
    "for l in range(nUse): # this is a lot faster than the bagging loop:\n",
    "    dJ = 1.*Ytr - sigma(Ft)\n",
    "    tree = ml.dtree.treeRegress(Xtr,dJ, maxDepth=) # train and save predictions\n",
    "    Ft += step*tree.predict(Xtr)\n",
    "    Fv += step*tree.predict(Xva)\n",
    "    #Fe += step*tree.predict(Xe)\n",
    "    Pv1[:,1] = sigma(Ft); Pv1[:,0] = 1-Pv1[:,1]\n",
    "    Pv2[:,1] = sigma(Fv); Pv2[:,0] = 1-Pv2[:,1]\n",
    "    #Pe2[:,1] = sigma(Fe); Pe2[:,0] = 1-Pe2[:,1]\n",
    "    if (l & (l-1) == 0): print(\"Train {}; est AUC {}\".format(l, dummy(Xtr,Ytr,Pv1).auc(Xtr,Ytr)))\n",
    "    if (l & (l-1) == 0): print(\"Valid {}; est AUC {}\".format(l, dummy(Xva,Yva,Pv2).auc(Xva,Yva)))\n",
    "    #print \" {} trees: MSE ~ {}\".format(l+1, ((Yv-Pv2)**2).mean())\n",
    "toKaggle('Pv1.csv',Pv1[:,1])\n",
    "toKaggle('Pv2.csv',Pv2[:,1])\n",
    "print(\"1: GradBoost, {} trees: AUC ~ {}\".format(nUse, dummy(Xtr,Ytr,Pv1).auc(Xtr,Ytr)))\n",
    "print(\"2: GradBoost, {} trees: AUC ~ {}\".format(nUse, dummy(Xva,Yva,Pv2).auc(Xva,Yva)))"
   ]
  },
  {
   "cell_type": "code",
   "execution_count": 20,
   "metadata": {},
   "outputs": [],
   "source": [
    "Pv1 = np.genfromtxt('Pv1.csv', delimiter=',', skip_header = 1)[:, 1:2]\n",
    "Pv2 = np.genfromtxt('Pv2.csv', delimiter=',', skip_header = 1)[:, 1:2]"
   ]
  },
  {
   "cell_type": "code",
   "execution_count": 47,
   "metadata": {},
   "outputs": [
    {
     "name": "stdout",
     "output_type": "stream",
     "text": [
      "(1485,) (5938, 1) (1485, 1) (7423, 1) (7423,)\n"
     ]
    }
   ],
   "source": [
    "print(Yva.shape, Pv1.shape, Pv2.shape, Pv3.shape, Y.shape)"
   ]
  },
  {
   "cell_type": "code",
   "execution_count": 48,
   "metadata": {},
   "outputs": [
    {
     "name": "stdout",
     "output_type": "stream",
     "text": [
      "** Stacked AUC:  0.7643624117804564\n"
     ]
    }
   ],
   "source": [
    "Sv=np.hstack((Pv1,Pv2))\n",
    "stack=ml.linearC.linearClassify(Sv,Y,reg=1e-3)\n",
    "print(\"** Stacked AUC: \",stack.auc(Sv,Y))\n",
    "#Se=np.hstack((Pe0,Pe1,Pe2,Pe3,Pe4))\n",
    "#PeS=stack.predictSoft(Sv)\n",
    "#toKaggle('Ex_Stack.csv',PeS[:,1])"
   ]
  },
  {
   "cell_type": "code",
   "execution_count": 5,
   "metadata": {},
   "outputs": [
    {
     "name": "stdout",
     "output_type": "stream",
     "text": [
      "Train 0; est AUC 0.8455965952817537\n",
      "Train 1; est AUC 0.8504158900597607\n",
      "Train 2; est AUC 0.8547874076711435\n",
      "Train 4; est AUC 0.858824263126133\n",
      "Train 8; est AUC 0.8671440971970129\n",
      "Train 16; est AUC 0.8827218782144847\n",
      "Train 32; est AUC 0.8994697969854196\n",
      "Train 64; est AUC 0.9273911627409901\n",
      "Train 128; est AUC 0.9642390307481157\n",
      "Train 256; est AUC 0.9932481664913554\n",
      "1: GradBoost, 274 trees: AUC ~ 0.9944504672419511\n"
     ]
    }
   ],
   "source": [
    "nUse= 274\n",
    "mu = Y.mean()\n",
    "step = 0.05\n",
    "F = np.zeros((X.shape[0],)) + np.log(mu/(1-mu))\n",
    "def sigma(z): return 1./(1.+np.exp(-z))\n",
    "Pv = np.zeros((X.shape[0],2)); Pv[:,0]=1-mu; Pv[:,1]=mu;\n",
    "np.random.seed(0)\n",
    "for l in range(nUse): # this is a lot faster than the bagging loop:\n",
    "    dJ = 1.*Y - sigma(F)\n",
    "    tree = ml.dtree.treeRegress(X,dJ, maxDepth=10) # train and save predictions\n",
    "    F += step*tree.predict(X)\n",
    "    Pv[:,1] = sigma(F); Pv[:,0] = 1-Pv[:,1]\n",
    "    if (l & (l-1) == 0): print(\"Train {}; est AUC {}\".format(l, dummy(X,Y,Pv).auc(X,Y)))\n",
    "    #print \" {} trees: MSE ~ {}\".format(l+1, ((Yv-Pv2)**2).mean())\n",
    "toKaggle('Pv_m1.csv',Pv[:,1])\n",
    "print(\"1: GradBoost, {} trees: AUC ~ {}\".format(nUse, dummy(X,Y,Pv).auc(X,Y)))"
   ]
  },
  {
   "cell_type": "code",
   "execution_count": 51,
   "metadata": {},
   "outputs": [
    {
     "name": "stderr",
     "output_type": "stream",
     "text": [
      "C:\\Users\\myese\\Desktop\\CS 178\\hw\\project\\CS178-Project\\mltools\\linearC.py:122: RuntimeWarning: invalid value encountered in true_divide\n",
      "  sigx  = np.exp(respi) / (1.0+np.exp(respi))\n",
      "C:\\Users\\myese\\Desktop\\CS 178\\hw\\project\\CS178-Project\\mltools\\linearC.py:121: RuntimeWarning: invalid value encountered in greater\n",
      "  yhati = 1.0 if respi > 0 else 0.0   # convert to 0/1 prediction\n"
     ]
    },
    {
     "ename": "KeyboardInterrupt",
     "evalue": "",
     "output_type": "error",
     "traceback": [
      "\u001b[1;31m---------------------------------------------------------------------------\u001b[0m",
      "\u001b[1;31mKeyboardInterrupt\u001b[0m                         Traceback (most recent call last)",
      "\u001b[1;32m<ipython-input-51-ad3464b7b880>\u001b[0m in \u001b[0;36m<module>\u001b[1;34m\u001b[0m\n\u001b[0;32m      4\u001b[0m \u001b[1;33m\u001b[0m\u001b[0m\n\u001b[0;32m      5\u001b[0m \u001b[0mfig\u001b[0m \u001b[1;33m=\u001b[0m \u001b[0mplt\u001b[0m\u001b[1;33m.\u001b[0m\u001b[0mfigure\u001b[0m\u001b[1;33m(\u001b[0m\u001b[1;33m)\u001b[0m\u001b[1;33m\u001b[0m\u001b[1;33m\u001b[0m\u001b[0m\n\u001b[1;32m----> 6\u001b[1;33m \u001b[0mlinc\u001b[0m \u001b[1;33m=\u001b[0m \u001b[0mml\u001b[0m\u001b[1;33m.\u001b[0m\u001b[0mlinearC\u001b[0m\u001b[1;33m.\u001b[0m\u001b[0mlinearClassify\u001b[0m\u001b[1;33m(\u001b[0m\u001b[0mX\u001b[0m\u001b[1;33m,\u001b[0m\u001b[0mY\u001b[0m\u001b[1;33m,\u001b[0m \u001b[0minitStep\u001b[0m\u001b[1;33m=\u001b[0m\u001b[1;36m0.009\u001b[0m\u001b[1;33m,\u001b[0m \u001b[0mreg\u001b[0m\u001b[1;33m=\u001b[0m\u001b[1;36m1e-3\u001b[0m\u001b[1;33m)\u001b[0m\u001b[1;33m\u001b[0m\u001b[1;33m\u001b[0m\u001b[0m\n\u001b[0m\u001b[0;32m      7\u001b[0m \u001b[0mPv0\u001b[0m \u001b[1;33m=\u001b[0m \u001b[0mlinc\u001b[0m\u001b[1;33m.\u001b[0m\u001b[0mpredictSoft\u001b[0m\u001b[1;33m(\u001b[0m\u001b[0mX\u001b[0m\u001b[1;33m)\u001b[0m\u001b[1;33m\u001b[0m\u001b[1;33m\u001b[0m\u001b[0m\n\u001b[0;32m      8\u001b[0m \u001b[0mtoKaggle\u001b[0m\u001b[1;33m(\u001b[0m\u001b[1;34m'Pv_n0.csv'\u001b[0m\u001b[1;33m,\u001b[0m\u001b[0mPv0\u001b[0m\u001b[1;33m[\u001b[0m\u001b[1;33m:\u001b[0m\u001b[1;33m,\u001b[0m\u001b[1;36m1\u001b[0m\u001b[1;33m]\u001b[0m\u001b[1;33m)\u001b[0m\u001b[1;33m\u001b[0m\u001b[1;33m\u001b[0m\u001b[0m\n",
      "\u001b[1;32m~\\Desktop\\CS 178\\hw\\project\\CS178-Project\\mltools\\linearC.py\u001b[0m in \u001b[0;36m__init__\u001b[1;34m(self, *args, **kwargs)\u001b[0m\n\u001b[0;32m     40\u001b[0m \u001b[1;33m\u001b[0m\u001b[0m\n\u001b[0;32m     41\u001b[0m         \u001b[1;32mif\u001b[0m \u001b[0mlen\u001b[0m\u001b[1;33m(\u001b[0m\u001b[0margs\u001b[0m\u001b[1;33m)\u001b[0m \u001b[1;32mor\u001b[0m \u001b[0mlen\u001b[0m\u001b[1;33m(\u001b[0m\u001b[0mkwargs\u001b[0m\u001b[1;33m)\u001b[0m\u001b[1;33m:\u001b[0m      \u001b[1;31m# if we were given optional arguments,\u001b[0m\u001b[1;33m\u001b[0m\u001b[1;33m\u001b[0m\u001b[0m\n\u001b[1;32m---> 42\u001b[1;33m             \u001b[0mself\u001b[0m\u001b[1;33m.\u001b[0m\u001b[0mtrain\u001b[0m\u001b[1;33m(\u001b[0m\u001b[1;33m*\u001b[0m\u001b[0margs\u001b[0m\u001b[1;33m,\u001b[0m\u001b[1;33m**\u001b[0m\u001b[0mkwargs\u001b[0m\u001b[1;33m)\u001b[0m    \u001b[1;31m#  just pass them through to \"train\"\u001b[0m\u001b[1;33m\u001b[0m\u001b[1;33m\u001b[0m\u001b[0m\n\u001b[0m\u001b[0;32m     43\u001b[0m \u001b[1;33m\u001b[0m\u001b[0m\n\u001b[0;32m     44\u001b[0m     \u001b[1;31m#@property\u001b[0m\u001b[1;33m\u001b[0m\u001b[1;33m\u001b[0m\u001b[1;33m\u001b[0m\u001b[0m\n",
      "\u001b[1;32m~\\Desktop\\CS 178\\hw\\project\\CS178-Project\\mltools\\linearC.py\u001b[0m in \u001b[0;36mtrain\u001b[1;34m(self, X, Y, reg, initStep, stopTol, stopIter, plot)\u001b[0m\n\u001b[0;32m    118\u001b[0m             \u001b[1;32mfor\u001b[0m \u001b[0mi\u001b[0m \u001b[1;32min\u001b[0m \u001b[0mrange\u001b[0m\u001b[1;33m(\u001b[0m\u001b[0mM\u001b[0m\u001b[1;33m)\u001b[0m\u001b[1;33m:\u001b[0m  \u001b[1;31m# for each data point\u001b[0m\u001b[1;33m\u001b[0m\u001b[1;33m\u001b[0m\u001b[0m\n\u001b[0;32m    119\u001b[0m                 \u001b[1;31m# compute linear response:\u001b[0m\u001b[1;33m\u001b[0m\u001b[1;33m\u001b[0m\u001b[1;33m\u001b[0m\u001b[0m\n\u001b[1;32m--> 120\u001b[1;33m                 \u001b[0mrespi\u001b[0m \u001b[1;33m=\u001b[0m \u001b[0mself\u001b[0m\u001b[1;33m.\u001b[0m\u001b[0mtheta\u001b[0m\u001b[1;33m[\u001b[0m\u001b[1;33m:\u001b[0m\u001b[1;33m,\u001b[0m\u001b[1;36m0\u001b[0m\u001b[1;33m]\u001b[0m \u001b[1;33m+\u001b[0m \u001b[0mtwod\u001b[0m\u001b[1;33m(\u001b[0m\u001b[0mX\u001b[0m\u001b[1;33m[\u001b[0m\u001b[0mi\u001b[0m\u001b[1;33m,\u001b[0m\u001b[1;33m:\u001b[0m\u001b[1;33m]\u001b[0m\u001b[1;33m)\u001b[0m\u001b[1;33m.\u001b[0m\u001b[0mdot\u001b[0m\u001b[1;33m(\u001b[0m\u001b[0mself\u001b[0m\u001b[1;33m.\u001b[0m\u001b[0mtheta\u001b[0m\u001b[1;33m[\u001b[0m\u001b[1;33m:\u001b[0m\u001b[1;33m,\u001b[0m\u001b[1;36m1\u001b[0m\u001b[1;33m:\u001b[0m\u001b[1;33m]\u001b[0m\u001b[1;33m.\u001b[0m\u001b[0mT\u001b[0m\u001b[1;33m)\u001b[0m\u001b[1;33m\u001b[0m\u001b[1;33m\u001b[0m\u001b[0m\n\u001b[0m\u001b[0;32m    121\u001b[0m                 \u001b[0myhati\u001b[0m \u001b[1;33m=\u001b[0m \u001b[1;36m1.0\u001b[0m \u001b[1;32mif\u001b[0m \u001b[0mrespi\u001b[0m \u001b[1;33m>\u001b[0m \u001b[1;36m0\u001b[0m \u001b[1;32melse\u001b[0m \u001b[1;36m0.0\u001b[0m   \u001b[1;31m# convert to 0/1 prediction\u001b[0m\u001b[1;33m\u001b[0m\u001b[1;33m\u001b[0m\u001b[0m\n\u001b[0;32m    122\u001b[0m                 \u001b[0msigx\u001b[0m  \u001b[1;33m=\u001b[0m \u001b[0mnp\u001b[0m\u001b[1;33m.\u001b[0m\u001b[0mexp\u001b[0m\u001b[1;33m(\u001b[0m\u001b[0mrespi\u001b[0m\u001b[1;33m)\u001b[0m \u001b[1;33m/\u001b[0m \u001b[1;33m(\u001b[0m\u001b[1;36m1.0\u001b[0m\u001b[1;33m+\u001b[0m\u001b[0mnp\u001b[0m\u001b[1;33m.\u001b[0m\u001b[0mexp\u001b[0m\u001b[1;33m(\u001b[0m\u001b[0mrespi\u001b[0m\u001b[1;33m)\u001b[0m\u001b[1;33m)\u001b[0m\u001b[1;33m\u001b[0m\u001b[1;33m\u001b[0m\u001b[0m\n",
      "\u001b[1;31mKeyboardInterrupt\u001b[0m: "
     ]
    },
    {
     "data": {
      "text/plain": [
       "<Figure size 432x288 with 0 Axes>"
      ]
     },
     "metadata": {},
     "output_type": "display_data"
    }
   ],
   "source": [
    "# logistic nabhan\n",
    "\n",
    "from IPython import display\n",
    "\n",
    "fig = plt.figure()\n",
    "linc = ml.linearC.linearClassify(X,Y, initStep=0.009, reg=1e-3)\n",
    "Pv0 = linc.predictSoft(X)\n",
    "toKaggle('Pv_n0.csv',Pv0[:,1])\n",
    "print(\"Linear Regress: AUC ~\", linc.auc(X,Y))"
   ]
  },
  {
   "cell_type": "code",
   "execution_count": 52,
   "metadata": {},
   "outputs": [
    {
     "name": "stdout",
     "output_type": "stream",
     "text": [
      "Train 0; est AUC 0.8326295711387415\n",
      "Train 1; est AUC 0.8939292669624597\n",
      "Train 2; est AUC 0.9251334002052624\n",
      "Train 4; est AUC 0.9534185418008607\n",
      "Train 8; est AUC 0.9754505578501236\n",
      "Train 16; est AUC 0.9859953017339268\n",
      "Train 32; est AUC 0.9902920022605577\n",
      "Train 64; est AUC 0.9924899038682139\n",
      "Train 128; est AUC 0.9936188032867534\n",
      "Train 256; est AUC 0.9940941331789123\n",
      "1: Random forest (284 members): Est AUC: 0.9940790318168274\n"
     ]
    }
   ],
   "source": [
    "# bisher's code\n",
    "\n",
    "nUse = 284\n",
    "M = X.shape[0]\n",
    "Pv3 = np.zeros((X.shape[0],2))\n",
    "np.random.seed(0)\n",
    "\n",
    "for l in range(nUse):\n",
    "    Xi,Yi = ml.bootstrapData(X,Y, M) # draw this member's random sample of data\n",
    "    tree = ml.dtree.treeClassify() # and train the model on that draw\n",
    "    tree.train(Xi,Yi,minLeaf=10,maxDepth=30,nFeatures=40)\n",
    "    Pv3 += tree.predictSoft(X)\n",
    "    if (l & (l-1) == 0):\n",
    "        print (\"Train {}; est AUC {}\".format(l, dummy(X,Y,Pv3/(l+1)).auc(X,Y)))\n",
    "Pv3 /= nUse\n",
    "toKaggle('Pv_b0.csv',Pv3[:,1])\n",
    "print (\"1: Random forest ({} members): Est AUC: {}\".format(nUse,dummy(X,Y,Pv3).auc(X,Y)))"
   ]
  },
  {
   "cell_type": "code",
   "execution_count": null,
   "metadata": {},
   "outputs": [],
   "source": []
  }
 ],
 "metadata": {
  "kernelspec": {
   "display_name": "Python 3",
   "language": "python",
   "name": "python3"
  },
  "language_info": {
   "codemirror_mode": {
    "name": "ipython",
    "version": 3
   },
   "file_extension": ".py",
   "mimetype": "text/x-python",
   "name": "python",
   "nbconvert_exporter": "python",
   "pygments_lexer": "ipython3",
   "version": "3.7.4"
  }
 },
 "nbformat": 4,
 "nbformat_minor": 2
}
