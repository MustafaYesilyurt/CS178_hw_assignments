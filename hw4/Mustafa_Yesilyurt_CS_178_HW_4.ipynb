{
 "cells": [
  {
   "cell_type": "markdown",
   "metadata": {},
   "source": [
    "Mustafa Yesilyurt 64496863 CS 178, Prof. Alexander Ihler, HW 4, 11/24/19"
   ]
  },
  {
   "cell_type": "code",
   "execution_count": 1,
   "metadata": {},
   "outputs": [],
   "source": [
    "# Import all required libraries\n",
    "from __future__ import division # For python 2.*\n",
    "\n",
    "import numpy as np\n",
    "import matplotlib.pyplot as plt\n",
    "import mltools as ml\n",
    "import random\n",
    "\n",
    "np.random.seed(0)\n",
    "%matplotlib inline"
   ]
  },
  {
   "cell_type": "markdown",
   "metadata": {},
   "source": [
    "## Problem 1: see end of document; it is done by hand.\n",
    "\n",
    "## Problem 2: Decision Trees in Python"
   ]
  },
  {
   "cell_type": "code",
   "execution_count": 2,
   "metadata": {},
   "outputs": [],
   "source": [
    "Xte = np.genfromtxt(\"data/X_test.txt\",delimiter=',')\n",
    "XComplete = np.genfromtxt(\"data/X_train.txt\",delimiter=',')\n",
    "Y = np.genfromtxt(\"data/Y_train.txt\",delimiter=',')\n",
    "XComplete,Y = ml.shuffleData(XComplete,Y)\n",
    "XComplete = np.array(XComplete)\n",
    "Y = np.array(Y)"
   ]
  },
  {
   "cell_type": "code",
   "execution_count": 3,
   "metadata": {},
   "outputs": [],
   "source": [
    "X = XComplete[:,:41]"
   ]
  },
  {
   "cell_type": "markdown",
   "metadata": {},
   "source": [
    "### 2.1 Print the max, min, mean, and variance of each of the first 5 features."
   ]
  },
  {
   "cell_type": "code",
   "execution_count": 15,
   "metadata": {},
   "outputs": [
    {
     "name": "stdout",
     "output_type": "stream",
     "text": [
      "Feature  0:\n",
      "Max: 110285.0  Min: 0.0  Mean: 1321.1174134446987  Variance: 6747189.595085322\n",
      "Feature  1:\n",
      "Max: 35.0  Min: 0.0  Mean: 6.5916745251246125  Variance: 34.70690630279573\n",
      "Feature  2:\n",
      "Max: 51536.0  Min: 0.0  Mean: 1152.273237235619  Variance: 5376518.288798102\n",
      "Feature  3:\n",
      "Max: 21768.0  Min: 0.0  Mean: 234.8262548834703  Variance: 260120.83053297663\n",
      "Feature  4:\n",
      "Max: 27210.0  Min: 0.0  Mean: 289.75871211100633  Variance: 406615.8651128233\n"
     ]
    }
   ],
   "source": [
    "#print(X[:,0]) #every item in the zeroth feature #print(X[0,:]) #the zeroth item for every feature\n",
    "#print(X[:,0].shape)\n",
    "for i in range(5): #print the maximum value of each of the first 5 features\n",
    "    print(\"Feature \", str(i)+\":\\nMax:\",np.max(X[:,i]),\" Min:\", np.min(X[:,i]),\" Mean:\", np.mean(X[:,i]),\n",
    "          \" Variance:\", np.var(X[:,i]))"
   ]
  },
  {
   "cell_type": "markdown",
   "metadata": {},
   "source": [
    "### 2.2 Partition X, Y into Xtr, Ytr and Xva, Yva of approx. equal size. Learn decision tree classifier. Set depth to 50 and report training and validation error rates."
   ]
  },
  {
   "cell_type": "code",
   "execution_count": 4,
   "metadata": {},
   "outputs": [],
   "source": [
    "Xtr, Xva, Ytr, Yva = ml.splitData(X, Y, 0.5)"
   ]
  },
  {
   "cell_type": "code",
   "execution_count": 7,
   "metadata": {},
   "outputs": [],
   "source": [
    "learner = ml.dtree.treeClassify(Xtr, Ytr, maxDepth=50)"
   ]
  },
  {
   "cell_type": "code",
   "execution_count": 8,
   "metadata": {},
   "outputs": [
    {
     "name": "stdout",
     "output_type": "stream",
     "text": [
      "Training data error rate: 0.0  ;  Validation data error rate: 0.40689841013203987\n"
     ]
    }
   ],
   "source": [
    "print(\"Training data error rate:\",learner.err(Xtr,Ytr),\" ;  Validation data error rate:\", learner.err(Xva,Yva))"
   ]
  },
  {
   "cell_type": "markdown",
   "metadata": {},
   "source": [
    "### 2.3 Now try varying the maxDepth parameter, which forces the tree learning algorithm to stop after at most that many levels. Test maxDepth values in the range (0, 1, 2, ..., 15), and plot the training and validation error rates versus maxDepth. Do models with higher maxDepth have higher or lower complexity? What choice of maxDepth provides the best decision tree model?"
   ]
  },
  {
   "cell_type": "code",
   "execution_count": 9,
   "metadata": {},
   "outputs": [
    {
     "data": {
      "image/png": "[encoded data removed]",
      "text/plain": [
       "<Figure size 432x288 with 1 Axes>"
      ]
     },
     "metadata": {
      "needs_background": "light"
     },
     "output_type": "display_data"
    }
   ],
   "source": [
    "trainingErrors = []\n",
    "validationErrors = []\n",
    "num = 16\n",
    "for i in range(num): #go from 0 to 15 inclusive\n",
    "    learner = ml.dtree.treeClassify(Xtr, Ytr, maxDepth=i)\n",
    "    trainingErrors.append(learner.err(Xtr,Ytr))\n",
    "    validationErrors.append(learner.err(Xva,Yva))\n",
    "plt.scatter(np.array(range(num)), np.array(trainingErrors), c='r')\n",
    "plt.scatter(np.array(range(num)), np.array(validationErrors), c='b')\n",
    "plt.show()"
   ]
  },
  {
   "cell_type": "markdown",
   "metadata": {},
   "source": [
    "Models with increased maxDepth have greater complexity; the number of splits in the decision tree is proportional to the number of decision boundaries. As such, an increased maxDepth will more closely match the training data; this can lead to overfitting. We can see that this is what causes the divergence starting at maxDepth=3, but seeing as the maxDepth value rendering the lowest validation error is maxDepth=7, we can say that this is the best choice."
   ]
  },
  {
   "cell_type": "markdown",
   "metadata": {},
   "source": [
    "### 2.4 The minParent parameter controls the complexity of decision trees by lower bounding the amount of data required to split nodes when learning. Fixing maxDepth=50, compute and plot the training and validation error rates for minParent values in the range 2.∧[0:13]=[1,2,4,8,...,8192]. Do models with higher minParent have higher or lower complexity? What choice of minParent provides the best decision tree model?"
   ]
  },
  {
   "cell_type": "code",
   "execution_count": 10,
   "metadata": {},
   "outputs": [
    {
     "data": {
      "image/png": "[encoded data removed]",
      "text/plain": [
       "<Figure size 432x288 with 1 Axes>"
      ]
     },
     "metadata": {
      "needs_background": "light"
     },
     "output_type": "display_data"
    }
   ],
   "source": [
    "minParents = np.array([1,2,4,8,16,32,64,128,256,512,1024,2048,4096,8192])\n",
    "trainingErrors = []\n",
    "validationErrors = []\n",
    "for i in minParents:\n",
    "    learner = ml.dtree.treeClassify(Xtr, Ytr, maxDepth=50, minParent=i)\n",
    "    trainingErrors.append(learner.err(Xtr,Ytr))\n",
    "    validationErrors.append(learner.err(Xva,Yva))\n",
    "plt.scatter(np.array(range(len(minParents))), np.array(trainingErrors), c='r')\n",
    "plt.scatter(np.array(range(len(minParents))), np.array(validationErrors), c='b')\n",
    "plt.show()"
   ]
  },
  {
   "cell_type": "markdown",
   "metadata": {},
   "source": [
    "Having understood that increased depth means increased complexity, it is only logical that fundamentally decreasing the depth by increasing the minParent parameter decreases the model's complexity. Thus, it makes sense that the training data's error rate has a positive slope. Based off of the validation data, however, the ideal value for minParent is minParent=10 as we want to minimize the error."
   ]
  },
  {
   "cell_type": "markdown",
   "metadata": {},
   "source": [
    "### 2.6 We discussed in class that we could understand our model’s performance as we vary our preference for false positives compared to false negatives using the ROC curve, or summarize this curve using a scalar area under curve(AUC) score. For the best decision tree model trained in the previous parts, use the roc function to plot an ROC curve summarizing your classifier performance on the training points, and another ROC curve summarizing your performance on the validation points. Then using the auc function, compute and report the AUC scores for the training and validation data."
   ]
  },
  {
   "cell_type": "code",
   "execution_count": 14,
   "metadata": {},
   "outputs": [
    {
     "data": {
      "image/png": "[encoded data removed]",
      "text/plain": [
       "<Figure size 432x288 with 1 Axes>"
      ]
     },
     "metadata": {
      "needs_background": "light"
     },
     "output_type": "display_data"
    },
    {
     "data": {
      "image/png": "[encoded data removed]",
      "text/plain": [
       "<Figure size 432x288 with 1 Axes>"
      ]
     },
     "metadata": {
      "needs_background": "light"
     },
     "output_type": "display_data"
    }
   ],
   "source": [
    "learner = ml.dtree.treeClassify(Xtr, Ytr, maxDepth=50, minParent=128)\n",
    "tup1 = learner.roc(Xtr, Ytr)\n",
    "fpr1 = np.array(tup1[0])\n",
    "tpr1 = np.array(tup1[1])\n",
    "plt.scatter(fpr1, tpr1, c='r')\n",
    "plt.show()\n",
    "\n",
    "tup2 = learner.roc(Xva, Yva)\n",
    "fpr2 = np.array(tup2[0])\n",
    "tpr2 = np.array(tup2[1])\n",
    "plt.scatter(fpr2, tpr2, c='b')\n",
    "plt.show()"
   ]
  },
  {
   "cell_type": "code",
   "execution_count": 13,
   "metadata": {},
   "outputs": [
    {
     "name": "stdout",
     "output_type": "stream",
     "text": [
      "Training AUC score: 0.8224405608616135  ;  Validation AUC score: 0.6676702362704529\n"
     ]
    }
   ],
   "source": [
    "auctr = learner.auc(Xtr, Ytr)\n",
    "aucva = learner.auc(Xva, Yva)\n",
    "print(\"Training AUC score:\",auctr,\" ;  Validation AUC score:\", aucva)"
   ]
  },
  {
   "cell_type": "markdown",
   "metadata": {},
   "source": [
    "### 2.7 Pick maxDepth and minParent values that you think will perform well. Retrain your decision tree model using all the data in X_train.txt. Score your performance on the same data (accuracy rate and AUC)."
   ]
  },
  {
   "cell_type": "code",
   "execution_count": 16,
   "metadata": {},
   "outputs": [],
   "source": [
    "learner2 = ml.dtree.treeClassify(X, Y, maxDepth=50, minParent=1024)"
   ]
  },
  {
   "cell_type": "code",
   "execution_count": 11,
   "metadata": {},
   "outputs": [],
   "source": [
    "Xte = np.genfromtxt('data/X_test.txt', delimiter=',')\n",
    "Yte = np.vstack((np.arange(Xte.shape[0]), learner2.predictSoft(Xte)[:,1])).T"
   ]
  },
  {
   "cell_type": "code",
   "execution_count": 12,
   "metadata": {},
   "outputs": [],
   "source": [
    "np.savetxt('Y_submit.txt',Yte,'%d,%.2f',header='Id,Predicted',comments='',delimiter=',')"
   ]
  },
  {
   "cell_type": "markdown",
   "metadata": {},
   "source": [
    "## Problem 3: Ensemble Methods / Option 1: Random Forest Classifier"
   ]
  },
  {
   "cell_type": "markdown",
   "metadata": {},
   "source": [
    "### 3.1 Plot the training and validation error as a function of the number of learners you include in the ensemble, for (at least) 1, 5, 10, and 25 learners."
   ]
  },
  {
   "cell_type": "code",
   "execution_count": 11,
   "metadata": {},
   "outputs": [],
   "source": [
    "np.random.seed(0)  # Resetting the seed in case you ran other stuff.\n",
    "n_bags = 25\n",
    "bags = []   # self.learners\n",
    "for l in range(n_bags):\n",
    "    # Each boosted data is the size of the original data. \n",
    "    Xi, Yi = ml.bootstrapData(Xtr, Ytr, Xtr.shape[0])\n",
    "\n",
    "    # Train the model on that draw\n",
    "    tree = ml.dtree.treeClassify(Xi, Yi, minParent=128, maxDepth=50, nFeatures=30)\n",
    "    bags.append(tree)"
   ]
  },
  {
   "cell_type": "code",
   "execution_count": 12,
   "metadata": {},
   "outputs": [],
   "source": [
    "trainingErrors = []\n",
    "validationErrors = []\n",
    "for tree in bags:\n",
    "    trainingErrors.append(tree.err(Xtr,Ytr))\n",
    "    validationErrors.append(tree.err(Xva,Yva))\n"
   ]
  },
  {
   "cell_type": "code",
   "execution_count": 18,
   "metadata": {},
   "outputs": [
    {
     "name": "stdout",
     "output_type": "stream",
     "text": [
      "Changes with every run!\n",
      "\n",
      "Average Training error rate vs number of learners\n"
     ]
    },
    {
     "data": {
      "image/png": "[encoded data removed]",
      "text/plain": [
       "<Figure size 432x288 with 1 Axes>"
      ]
     },
     "metadata": {
      "needs_background": "light"
     },
     "output_type": "display_data"
    },
    {
     "name": "stdout",
     "output_type": "stream",
     "text": [
      "Average Validation error rate vs number of learners\n"
     ]
    },
    {
     "data": {
      "image/png": "[encoded data removed]",
      "text/plain": [
       "<Figure size 432x288 with 1 Axes>"
      ]
     },
     "metadata": {
      "needs_background": "light"
     },
     "output_type": "display_data"
    }
   ],
   "source": [
    "# learned how to use random.sample at https://stackoverflow.com/questions/306400/how-to-randomly-select-an-item-from-a-list\n",
    "import random\n",
    "indeces = range(25)\n",
    "bagcounts = range(1, 26)\n",
    "plotTrEs = []\n",
    "plotVaEs = []\n",
    "\n",
    "for bc in bagcounts:\n",
    "    indeces_to_pick = random.sample(indeces, bc)\n",
    "    sumTrE = 0\n",
    "    sumVaE = 0\n",
    "    for ind in indeces_to_pick:\n",
    "        sumTrE += trainingErrors[ind]\n",
    "        sumVaE += validationErrors[ind]\n",
    "    plotTrEs.append(1.0*sumTrE/bc)\n",
    "    plotVaEs.append(1.0*sumVaE/bc)\n",
    "\n",
    "print(\"Changes with every run!\\n\")\n",
    "print(\"Average Training error rate vs number of learners\")\n",
    "plt.scatter(np.array(bagcounts), plotTrEs, c='r')\n",
    "plt.ylabel(\"Average Training error rate\")\n",
    "plt.xlabel(\"Number of Learners\")\n",
    "plt.show()\n",
    "print(\"Average Validation error rate vs number of learners\")\n",
    "plt.scatter(np.array(bagcounts), plotVaEs, c='b')\n",
    "plt.ylabel(\"Average Validation error rate\")\n",
    "plt.xlabel(\"Number of Learners\")\n",
    "plt.show()"
   ]
  },
  {
   "cell_type": "markdown",
   "metadata": {},
   "source": [
    "### 3.2 Now choose an ensemble size and build an ensemble using the full training set, make predictions on the testdata, and evaluate (via Kaggle’s leaderboard) and report your performance."
   ]
  },
  {
   "cell_type": "code",
   "execution_count": 9,
   "metadata": {},
   "outputs": [],
   "source": [
    "# increase n_bags\n",
    "\n",
    "np.random.seed(0)  # Resetting the seed in case you ran other stuff.\n",
    "n_bags = 100\n",
    "bags = []   # self.learners\n",
    "for l in range(n_bags):\n",
    "    # Each boosted data is the size of the original data. \n",
    "    Xi, Yi = ml.bootstrapData(X, Y, X.shape[0])\n",
    "\n",
    "    # Train the model on that draw\n",
    "    tree = ml.dtree.treeClassify(Xi, Yi, minParent=1024, maxDepth=50, nFeatures=30)\n",
    "    bags.append(tree)"
   ]
  },
  {
   "cell_type": "code",
   "execution_count": 10,
   "metadata": {},
   "outputs": [],
   "source": [
    "Xte = np.genfromtxt('data/X_test.txt', delimiter=',')\n",
    "sumYte = np.vstack((np.arange(Xte.shape[0]), bags[0].predictSoft(Xte)[:,1])).T\n",
    "for index in range(1, len(bags)):\n",
    "    Yte = np.vstack((np.arange(Xte.shape[0]), bags[index].predictSoft(Xte)[:,1])).T\n",
    "    for i in range(len(Yte)):\n",
    "        sumYte[i] += Yte[i]\n",
    "for i in range(len(sumYte)):\n",
    "    sumYte[i] = 1.0 * sumYte[i] / n_bags\n",
    "np.savetxt('Y_submit_2.txt',sumYte,'%d,%.2f',header='Id,Predicted',comments='',delimiter=',')"
   ]
  },
  {
   "cell_type": "markdown",
   "metadata": {},
   "source": [
    "## Problem 4: Statement of Collaboration"
   ]
  },
  {
   "cell_type": "markdown",
   "metadata": {},
   "source": [
    "I did not collaborate with anyone to complete this assignment.\n",
    "\n",
    "In problem 3.1, I used the following stackoverflow page to learn how to get multiple random items from a list: https://stackoverflow.com/questions/306400/how-to-randomly-select-an-item-from-a-list\n",
    "\n",
    "I also used the following page to figure out how to do problem 1: https://victorzhou.com/blog/information-gain/"
   ]
  }
 ],
 "metadata": {
  "kernelspec": {
   "display_name": "Python 3",
   "language": "python",
   "name": "python3"
  },
  "language_info": {
   "codemirror_mode": {
    "name": "ipython",
    "version": 3
   },
   "file_extension": ".py",
   "mimetype": "text/x-python",
   "name": "python",
   "nbconvert_exporter": "python",
   "pygments_lexer": "ipython3",
   "version": "3.7.4"
  }
 },
 "nbformat": 4,
 "nbformat_minor": 2
}
